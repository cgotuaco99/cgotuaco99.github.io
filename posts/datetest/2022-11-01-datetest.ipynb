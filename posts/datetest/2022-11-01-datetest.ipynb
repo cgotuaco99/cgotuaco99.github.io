{
 "cells": [
  {
   "cell_type": "raw",
   "metadata": {},
   "source": [
    "---\n",
    "title: \"datetest\n",
    "author: \"Chris Gotuaco\"\n",
    "categories: [SQL, Python]\n",
    "---"
   ]
  },
  {
   "cell_type": "markdown",
   "metadata": {},
   "source": [
    "Hi hi hi"
   ]
  }
 ],
 "metadata": {
  "kernelspec": {
   "display_name": "Python 3.9.7 ('py39')",
   "language": "python",
   "name": "python3"
  },
  "language_info": {
   "name": "python",
   "version": "3.9.7"
  },
  "orig_nbformat": 4,
  "vscode": {
   "interpreter": {
    "hash": "e3632a94f2ffa9d8d6a5df70343b7924f6c755504a87367b27733db777c93136"
   }
  }
 },
 "nbformat": 4,
 "nbformat_minor": 2
}
